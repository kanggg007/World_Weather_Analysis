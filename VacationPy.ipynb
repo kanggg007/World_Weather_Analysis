{
 "cells": [
  {
   "cell_type": "code",
   "execution_count": 3,
   "metadata": {},
   "outputs": [],
   "source": [
    "import pandas as pd\n",
    "import numpy as np\n",
    "import gmaps\n",
    "import requests\n",
    "from config import g_key"
   ]
  },
  {
   "cell_type": "code",
   "execution_count": 5,
   "metadata": {},
   "outputs": [
    {
     "data": {
      "text/html": [
       "<div>\n",
       "<style scoped>\n",
       "    .dataframe tbody tr th:only-of-type {\n",
       "        vertical-align: middle;\n",
       "    }\n",
       "\n",
       "    .dataframe tbody tr th {\n",
       "        vertical-align: top;\n",
       "    }\n",
       "\n",
       "    .dataframe thead th {\n",
       "        text-align: right;\n",
       "    }\n",
       "</style>\n",
       "<table border=\"1\" class=\"dataframe\">\n",
       "  <thead>\n",
       "    <tr style=\"text-align: right;\">\n",
       "      <th></th>\n",
       "      <th>City_ID</th>\n",
       "      <th>City</th>\n",
       "      <th>Country</th>\n",
       "      <th>Date</th>\n",
       "      <th>Lat</th>\n",
       "      <th>Lng</th>\n",
       "      <th>Max Temp</th>\n",
       "      <th>Humidity</th>\n",
       "      <th>Cloudiness</th>\n",
       "      <th>Wind Speed</th>\n",
       "    </tr>\n",
       "  </thead>\n",
       "  <tbody>\n",
       "    <tr>\n",
       "      <th>0</th>\n",
       "      <td>0</td>\n",
       "      <td>Lebu</td>\n",
       "      <td>CL</td>\n",
       "      <td>2020-10-03 21:22:19</td>\n",
       "      <td>-37.62</td>\n",
       "      <td>-73.65</td>\n",
       "      <td>49.64</td>\n",
       "      <td>60</td>\n",
       "      <td>2</td>\n",
       "      <td>7.83</td>\n",
       "    </tr>\n",
       "    <tr>\n",
       "      <th>1</th>\n",
       "      <td>1</td>\n",
       "      <td>Carnarvon</td>\n",
       "      <td>AU</td>\n",
       "      <td>2020-10-03 21:19:23</td>\n",
       "      <td>-24.87</td>\n",
       "      <td>113.63</td>\n",
       "      <td>55.40</td>\n",
       "      <td>54</td>\n",
       "      <td>0</td>\n",
       "      <td>19.46</td>\n",
       "    </tr>\n",
       "    <tr>\n",
       "      <th>2</th>\n",
       "      <td>2</td>\n",
       "      <td>Hamilton</td>\n",
       "      <td>US</td>\n",
       "      <td>2020-10-03 21:21:33</td>\n",
       "      <td>39.18</td>\n",
       "      <td>-84.53</td>\n",
       "      <td>64.99</td>\n",
       "      <td>42</td>\n",
       "      <td>75</td>\n",
       "      <td>9.17</td>\n",
       "    </tr>\n",
       "    <tr>\n",
       "      <th>3</th>\n",
       "      <td>3</td>\n",
       "      <td>Qaanaaq</td>\n",
       "      <td>GL</td>\n",
       "      <td>2020-10-03 21:22:19</td>\n",
       "      <td>77.48</td>\n",
       "      <td>-69.36</td>\n",
       "      <td>24.60</td>\n",
       "      <td>88</td>\n",
       "      <td>100</td>\n",
       "      <td>0.60</td>\n",
       "    </tr>\n",
       "    <tr>\n",
       "      <th>4</th>\n",
       "      <td>4</td>\n",
       "      <td>Mataura</td>\n",
       "      <td>NZ</td>\n",
       "      <td>2020-10-03 21:22:19</td>\n",
       "      <td>-46.19</td>\n",
       "      <td>168.86</td>\n",
       "      <td>48.99</td>\n",
       "      <td>96</td>\n",
       "      <td>100</td>\n",
       "      <td>11.99</td>\n",
       "    </tr>\n",
       "  </tbody>\n",
       "</table>\n",
       "</div>"
      ],
      "text/plain": [
       "   City_ID       City Country                 Date    Lat     Lng  Max Temp  \\\n",
       "0        0       Lebu      CL  2020-10-03 21:22:19 -37.62  -73.65     49.64   \n",
       "1        1  Carnarvon      AU  2020-10-03 21:19:23 -24.87  113.63     55.40   \n",
       "2        2   Hamilton      US  2020-10-03 21:21:33  39.18  -84.53     64.99   \n",
       "3        3    Qaanaaq      GL  2020-10-03 21:22:19  77.48  -69.36     24.60   \n",
       "4        4    Mataura      NZ  2020-10-03 21:22:19 -46.19  168.86     48.99   \n",
       "\n",
       "   Humidity  Cloudiness  Wind Speed  \n",
       "0        60           2        7.83  \n",
       "1        54           0       19.46  \n",
       "2        42          75        9.17  \n",
       "3        88         100        0.60  \n",
       "4        96         100       11.99  "
      ]
     },
     "execution_count": 5,
     "metadata": {},
     "output_type": "execute_result"
    }
   ],
   "source": [
    "city_data_df = pd.read_csv(\"weather_data/cities.csv\")\n",
    "city_data_df.head()"
   ]
  },
  {
   "cell_type": "code",
   "execution_count": 6,
   "metadata": {},
   "outputs": [
    {
     "data": {
      "text/plain": [
       "City_ID         int64\n",
       "City           object\n",
       "Country        object\n",
       "Date           object\n",
       "Lat           float64\n",
       "Lng           float64\n",
       "Max Temp      float64\n",
       "Humidity        int64\n",
       "Cloudiness      int64\n",
       "Wind Speed    float64\n",
       "dtype: object"
      ]
     },
     "execution_count": 6,
     "metadata": {},
     "output_type": "execute_result"
    }
   ],
   "source": [
    "city_data_df.dtypes"
   ]
  },
  {
   "cell_type": "code",
   "execution_count": 15,
   "metadata": {},
   "outputs": [
    {
     "data": {
      "application/vnd.jupyter.widget-view+json": {
       "model_id": "4aac78c813aa461d90dc945a48b7a73b",
       "version_major": 2,
       "version_minor": 0
      },
      "text/plain": [
       "Figure(layout=FigureLayout(height='420px'))"
      ]
     },
     "metadata": {},
     "output_type": "display_data"
    }
   ],
   "source": [
    "# 1. Assign the locations to an array of latitude and longitude pairs.\n",
    "locations = city_data_df[[\"Lat\", \"Lng\"]]\n",
    "max_temp = city_data_df[\"Max Temp\"]\n",
    "# 3. Assign the figure variable to the gmaps.figure() attribute.\n",
    "fig = gmaps.figure(center=(30.0, 31.0), zoom_level=1.5)\n",
    "# 4. Assign the heatmap_layer variable to the heatmap_layer attribute and add in the locations.\n",
    "heatmap_layer = gmaps.heatmap_layer(locations, weights= [max(temp, 0) for temp in max_temp])\n",
    "\n",
    "# 5. Add the heatmap layer.\n",
    "fig.add_layer(heatmap_layer)\n",
    "# 6. Call the figure to plot the data.\n",
    "fig"
   ]
  },
  {
   "cell_type": "code",
   "execution_count": 16,
   "metadata": {},
   "outputs": [
    {
     "data": {
      "application/vnd.jupyter.widget-view+json": {
       "model_id": "20c37320c981491e85792824dba7b913",
       "version_major": 2,
       "version_minor": 0
      },
      "text/plain": [
       "Figure(layout=FigureLayout(height='420px'))"
      ]
     },
     "metadata": {},
     "output_type": "display_data"
    }
   ],
   "source": [
    "#heatmap for percent humidities\n",
    "\n",
    "locations = city_data_df[[\"Lat\", \"Lng\"]]\n",
    "\n",
    "huminities = city_data_df['Humidity']\n",
    "\n",
    "fig = gmaps.figure(center=(30.0, 31.0), zoom_level=1.5)\n",
    "\n",
    "heatmap_layer = gmaps.heatmap_layer(locations, weights=huminities, dissipating=False, max_intensity=300, point_radius=4)\n",
    "\n",
    "fig.add_layer(heatmap_layer)\n",
    "\n",
    "fig\n"
   ]
  },
  {
   "cell_type": "code",
   "execution_count": 17,
   "metadata": {},
   "outputs": [
    {
     "data": {
      "application/vnd.jupyter.widget-view+json": {
       "model_id": "795fef3a279d43abae08b5b9b9edda57",
       "version_major": 2,
       "version_minor": 0
      },
      "text/plain": [
       "Figure(layout=FigureLayout(height='420px'))"
      ]
     },
     "metadata": {},
     "output_type": "display_data"
    }
   ],
   "source": [
    "#heatmap for percent cloudines\n",
    "\n",
    "locations = city_data_df[[\"Lat\", \"Lng\"]]\n",
    "\n",
    "Cloudiness = city_data_df['Cloudiness']\n",
    "\n",
    "fig = gmaps.figure(center=(30.0, 31.0), zoom_level=1.5)\n",
    "\n",
    "heatmap_layer = gmaps.heatmap_layer(locations, weights=Cloudiness, dissipating=False, max_intensity=300, point_radius=4)\n",
    "\n",
    "fig.add_layer(heatmap_layer)\n",
    "\n",
    "fig"
   ]
  },
  {
   "cell_type": "code",
   "execution_count": 18,
   "metadata": {},
   "outputs": [
    {
     "data": {
      "application/vnd.jupyter.widget-view+json": {
       "model_id": "427cd2684170428da9e547686a45dee0",
       "version_major": 2,
       "version_minor": 0
      },
      "text/plain": [
       "Figure(layout=FigureLayout(height='420px'))"
      ]
     },
     "metadata": {},
     "output_type": "display_data"
    }
   ],
   "source": [
    "#heatmap for percent Wind Speed\n",
    "\n",
    "locations = city_data_df[[\"Lat\", \"Lng\"]]\n",
    "\n",
    "wind_speed = city_data_df['Wind Speed']\n",
    "\n",
    "fig = gmaps.figure(center=(30.0, 31.0), zoom_level=1.5)\n",
    "\n",
    "heatmap_layer = gmaps.heatmap_layer(locations, weights=wind_speed, dissipating=False, max_intensity=300, point_radius=4)\n",
    "\n",
    "fig.add_layer(heatmap_layer)\n",
    "\n",
    "fig"
   ]
  },
  {
   "cell_type": "code",
   "execution_count": 23,
   "metadata": {},
   "outputs": [
    {
     "name": "stdout",
     "output_type": "stream",
     "text": [
      "what is the Min temperature place you would like to trip64.00\n",
      "what is the max temperature place you would like to trip76.00\n"
     ]
    }
   ],
   "source": [
    "min_temp = float(input(f\"what is the Min temperature place you would like to trip\"))\n",
    "max_temp = float(input(f\"what is the max temperature place you would like to trip\"))"
   ]
  },
  {
   "cell_type": "code",
   "execution_count": 44,
   "metadata": {},
   "outputs": [
    {
     "data": {
      "text/html": [
       "<div>\n",
       "<style scoped>\n",
       "    .dataframe tbody tr th:only-of-type {\n",
       "        vertical-align: middle;\n",
       "    }\n",
       "\n",
       "    .dataframe tbody tr th {\n",
       "        vertical-align: top;\n",
       "    }\n",
       "\n",
       "    .dataframe thead th {\n",
       "        text-align: right;\n",
       "    }\n",
       "</style>\n",
       "<table border=\"1\" class=\"dataframe\">\n",
       "  <thead>\n",
       "    <tr style=\"text-align: right;\">\n",
       "      <th></th>\n",
       "      <th>City_ID</th>\n",
       "      <th>City</th>\n",
       "      <th>Country</th>\n",
       "      <th>Date</th>\n",
       "      <th>Lat</th>\n",
       "      <th>Lng</th>\n",
       "      <th>Max Temp</th>\n",
       "      <th>Humidity</th>\n",
       "      <th>Cloudiness</th>\n",
       "      <th>Wind Speed</th>\n",
       "    </tr>\n",
       "  </thead>\n",
       "  <tbody>\n",
       "    <tr>\n",
       "      <th>2</th>\n",
       "      <td>2</td>\n",
       "      <td>Hamilton</td>\n",
       "      <td>US</td>\n",
       "      <td>2020-10-03 21:21:33</td>\n",
       "      <td>39.18</td>\n",
       "      <td>-84.53</td>\n",
       "      <td>64.99</td>\n",
       "      <td>42</td>\n",
       "      <td>75</td>\n",
       "      <td>9.17</td>\n",
       "    </tr>\n",
       "    <tr>\n",
       "      <th>16</th>\n",
       "      <td>16</td>\n",
       "      <td>Ambilobe</td>\n",
       "      <td>MG</td>\n",
       "      <td>2020-10-03 21:18:28</td>\n",
       "      <td>-13.20</td>\n",
       "      <td>49.05</td>\n",
       "      <td>70.47</td>\n",
       "      <td>83</td>\n",
       "      <td>13</td>\n",
       "      <td>4.52</td>\n",
       "    </tr>\n",
       "    <tr>\n",
       "      <th>28</th>\n",
       "      <td>28</td>\n",
       "      <td>Saint-Philippe</td>\n",
       "      <td>RE</td>\n",
       "      <td>2020-10-03 21:22:22</td>\n",
       "      <td>-21.36</td>\n",
       "      <td>55.77</td>\n",
       "      <td>73.40</td>\n",
       "      <td>78</td>\n",
       "      <td>90</td>\n",
       "      <td>13.87</td>\n",
       "    </tr>\n",
       "    <tr>\n",
       "      <th>30</th>\n",
       "      <td>30</td>\n",
       "      <td>Luanda</td>\n",
       "      <td>AO</td>\n",
       "      <td>2020-10-03 21:22:22</td>\n",
       "      <td>-8.84</td>\n",
       "      <td>13.23</td>\n",
       "      <td>73.40</td>\n",
       "      <td>83</td>\n",
       "      <td>75</td>\n",
       "      <td>11.41</td>\n",
       "    </tr>\n",
       "    <tr>\n",
       "      <th>31</th>\n",
       "      <td>31</td>\n",
       "      <td>Arraial Do Cabo</td>\n",
       "      <td>BR</td>\n",
       "      <td>2020-10-03 21:22:22</td>\n",
       "      <td>-22.97</td>\n",
       "      <td>-42.03</td>\n",
       "      <td>75.20</td>\n",
       "      <td>94</td>\n",
       "      <td>75</td>\n",
       "      <td>11.41</td>\n",
       "    </tr>\n",
       "  </tbody>\n",
       "</table>\n",
       "</div>"
      ],
      "text/plain": [
       "    City_ID             City Country                 Date    Lat    Lng  \\\n",
       "2         2         Hamilton      US  2020-10-03 21:21:33  39.18 -84.53   \n",
       "16       16         Ambilobe      MG  2020-10-03 21:18:28 -13.20  49.05   \n",
       "28       28   Saint-Philippe      RE  2020-10-03 21:22:22 -21.36  55.77   \n",
       "30       30           Luanda      AO  2020-10-03 21:22:22  -8.84  13.23   \n",
       "31       31  Arraial Do Cabo      BR  2020-10-03 21:22:22 -22.97 -42.03   \n",
       "\n",
       "    Max Temp  Humidity  Cloudiness  Wind Speed  \n",
       "2      64.99        42          75        9.17  \n",
       "16     70.47        83          13        4.52  \n",
       "28     73.40        78          90       13.87  \n",
       "30     73.40        83          75       11.41  \n",
       "31     75.20        94          75       11.41  "
      ]
     },
     "execution_count": 44,
     "metadata": {},
     "output_type": "execute_result"
    }
   ],
   "source": [
    "preferred_cities_df = city_data_df.loc[(city_data_df['Max Temp'] >= min_temp) & (city_data_df['Max Temp'] <= max_temp)]\n",
    "preferred_cities_df.head()\n"
   ]
  },
  {
   "cell_type": "code",
   "execution_count": 126,
   "metadata": {},
   "outputs": [
    {
     "name": "stdout",
     "output_type": "stream",
     "text": [
      "Hotel not found... skipping.\n",
      "Hotel not found... skipping.\n",
      "Hotel not found... skipping.\n",
      "Hotel not found... skipping.\n",
      "Hotel not found... skipping.\n",
      "Hotel not found... skipping.\n",
      "Hotel not found... skipping.\n",
      "Hotel not found... skipping.\n",
      "Hotel not found... skipping.\n",
      "Hotel not found... skipping.\n",
      "Hotel not found... skipping.\n",
      "Hotel not found... skipping.\n"
     ]
    }
   ],
   "source": [
    "\n",
    "params = {\"radius\": 5000,\"types\": \"lodging\",\"key\": g_key,\"location\": \"48.8566, 2.3522\"}\n",
    "for index, row in hotel_df.iterrows():\n",
    "    lat = row[\"Lat\"]\n",
    "    lng = row[\"Lng\"]\n",
    "    params['location']=(f\"{lat},{lng}\")\n",
    "    base_url = \"https://maps.googleapis.com/maps/api/place/nearbysearch/json\"\n",
    "    hotels = requests.get(base_url, params=params).json()\n",
    "    # Grab the first hotel from the results and store the name.\n",
    "    try:\n",
    "        hotel_df.loc[index, \"Hotel Name\"] = hotels[\"results\"][0][\"name\"]\n",
    "    except (IndexError):\n",
    "        print(\"Hotel not found... skipping.\")\n",
    "    \n",
    "\n",
    "\n"
   ]
  },
  {
   "cell_type": "code",
   "execution_count": 131,
   "metadata": {},
   "outputs": [
    {
     "data": {
      "application/vnd.jupyter.widget-view+json": {
       "model_id": "81611c442abb49f1a0bd87c1d5a65b5e",
       "version_major": 2,
       "version_minor": 0
      },
      "text/plain": [
       "Figure(layout=FigureLayout(height='420px'))"
      ]
     },
     "metadata": {},
     "output_type": "display_data"
    }
   ],
   "source": [
    "# Add a heatmap of temperature for the vacation spots.\n",
    "locations = hotel_df[[\"Lat\", \"Lng\"]]\n",
    "max_temp = hotel_df[\"Max Temp\"]\n",
    "fig = gmaps.figure(center=(30.0, 31.0), zoom_level=1.5)\n",
    "info_box_template = \"\"\"\n",
    "<dl>\n",
    "<dt>Hotel Name</dt><dd>{Hotel Name}</dd>\n",
    "<dt>City</dt><dd>{City}</dd>\n",
    "<dt>Country</dt><dd>{Country}</dd>\n",
    "<dt>Max Temp</dt><dd>{Max Temp} °F</dd>\n",
    "</dl>\n",
    "\"\"\"\n",
    "hotel_info = [info_box_template.format(**row) for index, row in hotel_df.iterrows()]\n",
    "heat_layer = gmaps.heatmap_layer(locations, weights=max_temp, dissipating=False,\n",
    "             max_intensity=300, point_radius=4)\n",
    "marker_layer = gmaps.marker_layer(locations, info_box_content=hotel_info)\n",
    "\n",
    "fig.add_layer(heat_layer)\n",
    "fig.add_layer(marker_layer)\n",
    "\n",
    "# Call the figure to plot the data.\n",
    "fig"
   ]
  },
  {
   "cell_type": "code",
   "execution_count": null,
   "metadata": {},
   "outputs": [],
   "source": []
  }
 ],
 "metadata": {
  "kernelspec": {
   "display_name": "PythonData",
   "language": "python",
   "name": "pythondata"
  },
  "language_info": {
   "codemirror_mode": {
    "name": "ipython",
    "version": 3
   },
   "file_extension": ".py",
   "mimetype": "text/x-python",
   "name": "python",
   "nbconvert_exporter": "python",
   "pygments_lexer": "ipython3",
   "version": "3.6.10"
  }
 },
 "nbformat": 4,
 "nbformat_minor": 4
}
